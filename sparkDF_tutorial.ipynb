{
 "cells": [
  {
   "cell_type": "markdown",
   "metadata": {},
   "source": [
    "# In this tutorial you will learn \n",
    "\n",
    "- how to create spark session\n",
    "- how to load data and check schema\n",
    "- how to check duplicate records\n",
    "- how to check missing values\n",
    "- how to extract date and time from datetime column\n",
    "- how to create new columns\n",
    "- how to group, aggregate, and filter data\n",
    "- how to make meaningful business insights\n",
    "\n",
    "@Author: Ivy Wang\n",
    "\n",
    "\n",
    "\n"
   ]
  },
  {
   "cell_type": "code",
   "execution_count": 3,
   "metadata": {},
   "outputs": [
    {
     "name": "stdout",
     "output_type": "stream",
     "text": [
      "Requirement already satisfied: pyspark in /usr/local/lib/python3.10/site-packages (3.5.1)\n",
      "Requirement already satisfied: py4j==0.10.9.7 in /usr/local/lib/python3.10/site-packages (from pyspark) (0.10.9.7)\n"
     ]
    }
   ],
   "source": [
    "!pip3 install pyspark\n"
   ]
  },
  {
   "cell_type": "markdown",
   "metadata": {},
   "source": [
    "## 1. Create spark session"
   ]
  },
  {
   "cell_type": "code",
   "execution_count": 4,
   "metadata": {},
   "outputs": [],
   "source": [
    "from pyspark.sql import SparkSession\n",
    "spark = SparkSession.builder.appName('tutorial').getOrCreate()\n"
   ]
  },
  {
   "cell_type": "markdown",
   "metadata": {},
   "source": [
    "## 2. Load dataset"
   ]
  },
  {
   "cell_type": "code",
   "execution_count": 5,
   "metadata": {},
   "outputs": [],
   "source": [
    "# read dataset and show the header\n",
    "df = spark.read.option('header','true').csv('/Users/ivyw/pyspark/bike_rental.csv')"
   ]
  },
  {
   "cell_type": "code",
   "execution_count": 6,
   "metadata": {},
   "outputs": [
    {
     "name": "stdout",
     "output_type": "stream",
     "text": [
      "root\n",
      " |-- rental_id: string (nullable = true)\n",
      " |-- duration: string (nullable = true)\n",
      " |-- duration_ms: string (nullable = true)\n",
      " |-- bike_id: string (nullable = true)\n",
      " |-- bike_model: string (nullable = true)\n",
      " |-- end_date: string (nullable = true)\n",
      " |-- end_station_id: string (nullable = true)\n",
      " |-- end_station_name: string (nullable = true)\n",
      " |-- start_date: string (nullable = true)\n",
      " |-- start_station_id: string (nullable = true)\n",
      " |-- start_station_name: string (nullable = true)\n",
      " |-- end_station_logical_terminal: string (nullable = true)\n",
      " |-- start_station_logical_terminal: string (nullable = true)\n",
      " |-- end_station_priority_id: string (nullable = true)\n",
      "\n"
     ]
    }
   ],
   "source": [
    "# check schema\n",
    "df.printSchema()"
   ]
  },
  {
   "cell_type": "code",
   "execution_count": 7,
   "metadata": {},
   "outputs": [
    {
     "name": "stdout",
     "output_type": "stream",
     "text": [
      "+---------+--------+-----------+-------+----------+--------------------+--------------+--------------------+--------------------+----------------+--------------------+----------------------------+------------------------------+-----------------------+\n",
      "|rental_id|duration|duration_ms|bike_id|bike_model|            end_date|end_station_id|    end_station_name|          start_date|start_station_id|  start_station_name|end_station_logical_terminal|start_station_logical_terminal|end_station_priority_id|\n",
      "+---------+--------+-----------+-------+----------+--------------------+--------------+--------------------+--------------------+----------------+--------------------+----------------------------+------------------------------+-----------------------+\n",
      "|125727958|     751|     751211|  55054|   CLASSIC|2022-10-06 21:00:...|        200243|St. John's Park, ...|2022-10-06 20:48:...|          200163|Jubilee Plaza, Ca...|                        NULL|                          NULL|                   NULL|\n",
      "|125469587|    1698|    1697877|  16277|   CLASSIC|2022-09-27 19:45:...|        300207|Gauden Road, Clapham|2022-09-27 19:17:...|             997|Worship Street, S...|                        NULL|                          NULL|                   NULL|\n",
      "|127594867|     934|     934323|  60380|PBSC_EBIKE|2022-12-22 09:36:...|          2637|Bermondsey Street...|2022-12-22 09:20:...|          200165|Wellington Row, B...|                        NULL|                          NULL|                   NULL|\n",
      "|126939433|     227|     226614|  59124|   CLASSIC|2022-11-19 19:28:...|        200207|Hartington Road, ...|2022-11-19 19:25:...|            1000|Vauxhall Cross, V...|                        NULL|                          NULL|                   NULL|\n",
      "|127923362|     496|     495504|  31100|   CLASSIC|2023-01-14 18:06:...|         22179|Exhibition Road, ...|2023-01-14 17:58:...|            1001|West Cromwell Roa...|                        NULL|                          NULL|                   NULL|\n",
      "|127426285|    1487|    1487110|  59935|   CLASSIC|2022-12-10 16:56:...|        200025|London Fields, Ha...|2022-12-10 16:32:...|            1008|Hatton Wall, Holborn|                        NULL|                          NULL|                   NULL|\n",
      "|126003775|     126|     125991|  58241|   CLASSIC|2022-10-16 10:30:...|        200197|Barons Court Stat...|2022-10-16 10:27:...|          300018|Charing Cross Hos...|                        NULL|                          NULL|                   NULL|\n",
      "|123098746|    1920|    1920000|   9836|      NULL|2022-07-23 16:18:...|           309|Embankment (Savoy...|2022-07-23 15:46:...|             503|Cleveland Way, St...|                        NULL|                          NULL|                   NULL|\n",
      "|126270618|     618|     618189|  57944|   CLASSIC|2022-10-25 19:29:...|          1129|Sun Street, Liver...|2022-10-25 19:19:...|          300024|Dunston Road , Ha...|                        NULL|                          NULL|                   NULL|\n",
      "|126902035|     467|     466987|  54487|   CLASSIC|2022-11-18 12:04:...|        200110|Bishop's Bridge R...|2022-11-18 11:56:...|          300026|All Saints' Road,...|                        NULL|                          NULL|                   NULL|\n",
      "|127831845|    1125|    1124982|  53308|   CLASSIC|2023-01-10 11:53:...|          1206|Montpelier Street...|2023-01-10 11:35:...|            1008|Hatton Wall, Holborn|                        NULL|                          NULL|                   NULL|\n",
      "|126377595|     167|     166938|  60567|PBSC_EBIKE|2022-10-29 09:24:...|        300201|Coram Street, Blo...|2022-10-29 09:21:...|            1011|Belgrove Street ,...|                        NULL|                          NULL|                   NULL|\n",
      "|125119735|     479|     478517|  56566|   CLASSIC|2022-09-14 20:34:...|           962|Stamford Street, ...|2022-09-14 20:26:...|            1015|New Globe Walk, B...|                        NULL|                          NULL|                   NULL|\n",
      "|125508994|     346|     345708|  56557|   CLASSIC|2022-09-29 08:26:...|        200044|New Fetter Lane, ...|2022-09-29 08:20:...|             999|Queen Street 1, Bank|                        NULL|                          NULL|                   NULL|\n",
      "|127252046|    1288|    1287536|  42272|   CLASSIC|2022-12-02 17:50:...|          1148|Queen Mother Spor...|2022-12-02 17:28:...|          300009|World's End Place...|                        NULL|                          NULL|                   NULL|\n",
      "|118788458|    2040|    2040000|  19350|      NULL|2022-04-10 01:31:...|           237|Dock Street, Wapping|2022-04-10 00:57:...|             751|Newton Street, Co...|                        NULL|                          NULL|                   NULL|\n",
      "|125499374|       3|       3314|  54090|   CLASSIC|2022-09-28 19:11:...|          1007|Drury Lane, Coven...|2022-09-28 19:11:...|            1007|Drury Lane, Coven...|                        NULL|                          NULL|                   NULL|\n",
      "|125124646|     817|     816885|  53689|   CLASSIC|2022-09-15 07:12:...|         22180|     Cheapside, Bank|2022-09-15 06:58:...|            1011|Belgrove Street ,...|                        NULL|                          NULL|                   NULL|\n",
      "|126988627|     308|     307559|  30564|   CLASSIC|2022-11-22 09:35:...|          1182|Notting Hill Gate...|2022-11-22 09:29:...|          300023|All Saints Church...|                        NULL|                          NULL|                   NULL|\n",
      "|120329996|    5220|    5220000|   7784|      NULL|2022-05-19 19:55:...|           248|Triangle Car Park...|2022-05-19 18:28:...|             248|Triangle Car Park...|                        NULL|                          NULL|                   NULL|\n",
      "+---------+--------+-----------+-------+----------+--------------------+--------------+--------------------+--------------------+----------------+--------------------+----------------------------+------------------------------+-----------------------+\n",
      "only showing top 20 rows\n",
      "\n"
     ]
    }
   ],
   "source": [
    "df.show()"
   ]
  },
  {
   "cell_type": "markdown",
   "metadata": {},
   "source": [
    "## 3. Check duplicates and missing values"
   ]
  },
  {
   "cell_type": "code",
   "execution_count": 8,
   "metadata": {},
   "outputs": [
    {
     "name": "stderr",
     "output_type": "stream",
     "text": [
      "[Stage 2:>                                                          (0 + 2) / 2]\r"
     ]
    },
    {
     "name": "stdout",
     "output_type": "stream",
     "text": [
      "+---------+--------+-----------+-------+----------+--------+--------------+----------------+----------+----------------+------------------+----------------------------+------------------------------+-----------------------+-----+\n",
      "|rental_id|duration|duration_ms|bike_id|bike_model|end_date|end_station_id|end_station_name|start_date|start_station_id|start_station_name|end_station_logical_terminal|start_station_logical_terminal|end_station_priority_id|count|\n",
      "+---------+--------+-----------+-------+----------+--------+--------------+----------------+----------+----------------+------------------+----------------------------+------------------------------+-----------------------+-----+\n",
      "+---------+--------+-----------+-------+----------+--------+--------------+----------------+----------+----------------+------------------+----------------------------+------------------------------+-----------------------+-----+\n",
      "\n"
     ]
    },
    {
     "name": "stderr",
     "output_type": "stream",
     "text": [
      "                                                                                \r"
     ]
    }
   ],
   "source": [
    "# check duplicated records\n",
    "\n",
    "#df.columns\n",
    "df_dup = df.groupBy('rental_id',\n",
    " 'duration',\n",
    " 'duration_ms',\n",
    " 'bike_id',\n",
    " 'bike_model',\n",
    " 'end_date',\n",
    " 'end_station_id',\n",
    " 'end_station_name',\n",
    " 'start_date',\n",
    " 'start_station_id',\n",
    " 'start_station_name',\n",
    " 'end_station_logical_terminal',\n",
    " 'start_station_logical_terminal',\n",
    " 'end_station_priority_id').count().filter('count>1').show()\n"
   ]
  },
  {
   "cell_type": "code",
   "execution_count": 9,
   "metadata": {},
   "outputs": [
    {
     "name": "stdout",
     "output_type": "stream",
     "text": [
      "+---------+--------+-----------+-------+----------+--------+--------------+----------------+----------+----------------+------------------+----------------------------+------------------------------+-----------------------+\n",
      "|rental_id|duration|duration_ms|bike_id|bike_model|end_date|end_station_id|end_station_name|start_date|start_station_id|start_station_name|end_station_logical_terminal|start_station_logical_terminal|end_station_priority_id|\n",
      "+---------+--------+-----------+-------+----------+--------+--------------+----------------+----------+----------------+------------------+----------------------------+------------------------------+-----------------------+\n",
      "|        0|       0|          0|      0|     13432|       0|           502|               0|         0|               0|                 0|                       47368|                         47368|                  47368|\n",
      "+---------+--------+-----------+-------+----------+--------+--------------+----------------+----------+----------------+------------------+----------------------------+------------------------------+-----------------------+\n",
      "\n"
     ]
    }
   ],
   "source": [
    "# check missing values\n",
    "from pyspark.sql.functions import col, sum\n",
    "\n",
    "# Check for missing values in all columns\n",
    "missing_values_count = df.select([sum(col(c).isNull().cast(\"int\")).alias(c) for c in df.columns])\n",
    "\n",
    "# Display the results\n",
    "missing_values_count.show()"
   ]
  },
  {
   "cell_type": "markdown",
   "metadata": {},
   "source": [
    "## 4. Extract date and time from datetime column"
   ]
  },
  {
   "cell_type": "code",
   "execution_count": 10,
   "metadata": {},
   "outputs": [],
   "source": [
    "# parse datetime and extract year, month, day of week, hour of day\n",
    "from pyspark.sql.functions import year, month, dayofweek, hour\n",
    "\n",
    "# Extract year\n",
    "df = df.withColumn(\"year\", year(\"start_date\"))\n",
    "\n",
    "# Extract month\n",
    "df = df.withColumn(\"month\", month(\"start_date\"))\n",
    "\n",
    "# Extract day of the week (1 = Sunday, 2 = Monday, ..., 7 = Saturday)\n",
    "df = df.withColumn(\"day_of_week\", dayofweek(\"start_date\"))\n",
    "\n",
    "# Extract hour of the day\n",
    "df = df.withColumn(\"hour_of_day\", hour(\"start_date\"))"
   ]
  },
  {
   "cell_type": "code",
   "execution_count": 11,
   "metadata": {},
   "outputs": [],
   "source": [
    "# add a new column called duration_min\n",
    "from pyspark.sql.functions import col, round\n",
    "df = df.withColumn(\"duration_min\",df[\"duration\"]/60)\n",
    "df = df.withColumn(\"duration_min\", round(col(\"duration_min\"),2))"
   ]
  },
  {
   "cell_type": "code",
   "execution_count": 12,
   "metadata": {},
   "outputs": [
    {
     "name": "stdout",
     "output_type": "stream",
     "text": [
      "+---------+--------+-----------+-------+----------+--------------------+--------------+--------------------+--------------------+----------------+--------------------+----------------------------+------------------------------+-----------------------+----+-----+-----------+-----------+------------+\n",
      "|rental_id|duration|duration_ms|bike_id|bike_model|            end_date|end_station_id|    end_station_name|          start_date|start_station_id|  start_station_name|end_station_logical_terminal|start_station_logical_terminal|end_station_priority_id|year|month|day_of_week|hour_of_day|duration_min|\n",
      "+---------+--------+-----------+-------+----------+--------------------+--------------+--------------------+--------------------+----------------+--------------------+----------------------------+------------------------------+-----------------------+----+-----+-----------+-----------+------------+\n",
      "|125727958|     751|     751211|  55054|   CLASSIC|2022-10-06 21:00:...|        200243|St. John's Park, ...|2022-10-06 20:48:...|          200163|Jubilee Plaza, Ca...|                        NULL|                          NULL|                   NULL|2022|   10|          5|         22|       12.52|\n",
      "|125469587|    1698|    1697877|  16277|   CLASSIC|2022-09-27 19:45:...|        300207|Gauden Road, Clapham|2022-09-27 19:17:...|             997|Worship Street, S...|                        NULL|                          NULL|                   NULL|2022|    9|          3|         21|        28.3|\n",
      "|127594867|     934|     934323|  60380|PBSC_EBIKE|2022-12-22 09:36:...|          2637|Bermondsey Street...|2022-12-22 09:20:...|          200165|Wellington Row, B...|                        NULL|                          NULL|                   NULL|2022|   12|          5|         10|       15.57|\n",
      "|126939433|     227|     226614|  59124|   CLASSIC|2022-11-19 19:28:...|        200207|Hartington Road, ...|2022-11-19 19:25:...|            1000|Vauxhall Cross, V...|                        NULL|                          NULL|                   NULL|2022|   11|          7|         20|        3.78|\n",
      "|127923362|     496|     495504|  31100|   CLASSIC|2023-01-14 18:06:...|         22179|Exhibition Road, ...|2023-01-14 17:58:...|            1001|West Cromwell Roa...|                        NULL|                          NULL|                   NULL|2023|    1|          7|         18|        8.27|\n",
      "|127426285|    1487|    1487110|  59935|   CLASSIC|2022-12-10 16:56:...|        200025|London Fields, Ha...|2022-12-10 16:32:...|            1008|Hatton Wall, Holborn|                        NULL|                          NULL|                   NULL|2022|   12|          7|         17|       24.78|\n",
      "|126003775|     126|     125991|  58241|   CLASSIC|2022-10-16 10:30:...|        200197|Barons Court Stat...|2022-10-16 10:27:...|          300018|Charing Cross Hos...|                        NULL|                          NULL|                   NULL|2022|   10|          1|         12|         2.1|\n",
      "|123098746|    1920|    1920000|   9836|      NULL|2022-07-23 16:18:...|           309|Embankment (Savoy...|2022-07-23 15:46:...|             503|Cleveland Way, St...|                        NULL|                          NULL|                   NULL|2022|    7|          7|         17|        32.0|\n",
      "|126270618|     618|     618189|  57944|   CLASSIC|2022-10-25 19:29:...|          1129|Sun Street, Liver...|2022-10-25 19:19:...|          300024|Dunston Road , Ha...|                        NULL|                          NULL|                   NULL|2022|   10|          3|         21|        10.3|\n",
      "|126902035|     467|     466987|  54487|   CLASSIC|2022-11-18 12:04:...|        200110|Bishop's Bridge R...|2022-11-18 11:56:...|          300026|All Saints' Road,...|                        NULL|                          NULL|                   NULL|2022|   11|          6|         12|        7.78|\n",
      "|127831845|    1125|    1124982|  53308|   CLASSIC|2023-01-10 11:53:...|          1206|Montpelier Street...|2023-01-10 11:35:...|            1008|Hatton Wall, Holborn|                        NULL|                          NULL|                   NULL|2023|    1|          3|         12|       18.75|\n",
      "|126377595|     167|     166938|  60567|PBSC_EBIKE|2022-10-29 09:24:...|        300201|Coram Street, Blo...|2022-10-29 09:21:...|            1011|Belgrove Street ,...|                        NULL|                          NULL|                   NULL|2022|   10|          7|         11|        2.78|\n",
      "|125119735|     479|     478517|  56566|   CLASSIC|2022-09-14 20:34:...|           962|Stamford Street, ...|2022-09-14 20:26:...|            1015|New Globe Walk, B...|                        NULL|                          NULL|                   NULL|2022|    9|          4|         22|        7.98|\n",
      "|125508994|     346|     345708|  56557|   CLASSIC|2022-09-29 08:26:...|        200044|New Fetter Lane, ...|2022-09-29 08:20:...|             999|Queen Street 1, Bank|                        NULL|                          NULL|                   NULL|2022|    9|          5|         10|        5.77|\n",
      "|127252046|    1288|    1287536|  42272|   CLASSIC|2022-12-02 17:50:...|          1148|Queen Mother Spor...|2022-12-02 17:28:...|          300009|World's End Place...|                        NULL|                          NULL|                   NULL|2022|   12|          6|         18|       21.47|\n",
      "|118788458|    2040|    2040000|  19350|      NULL|2022-04-10 01:31:...|           237|Dock Street, Wapping|2022-04-10 00:57:...|             751|Newton Street, Co...|                        NULL|                          NULL|                   NULL|2022|    4|          1|          2|        34.0|\n",
      "|125499374|       3|       3314|  54090|   CLASSIC|2022-09-28 19:11:...|          1007|Drury Lane, Coven...|2022-09-28 19:11:...|            1007|Drury Lane, Coven...|                        NULL|                          NULL|                   NULL|2022|    9|          4|         21|        0.05|\n",
      "|125124646|     817|     816885|  53689|   CLASSIC|2022-09-15 07:12:...|         22180|     Cheapside, Bank|2022-09-15 06:58:...|            1011|Belgrove Street ,...|                        NULL|                          NULL|                   NULL|2022|    9|          5|          8|       13.62|\n",
      "|126988627|     308|     307559|  30564|   CLASSIC|2022-11-22 09:35:...|          1182|Notting Hill Gate...|2022-11-22 09:29:...|          300023|All Saints Church...|                        NULL|                          NULL|                   NULL|2022|   11|          3|         10|        5.13|\n",
      "|120329996|    5220|    5220000|   7784|      NULL|2022-05-19 19:55:...|           248|Triangle Car Park...|2022-05-19 18:28:...|             248|Triangle Car Park...|                        NULL|                          NULL|                   NULL|2022|    5|          5|         20|        87.0|\n",
      "+---------+--------+-----------+-------+----------+--------------------+--------------+--------------------+--------------------+----------------+--------------------+----------------------------+------------------------------+-----------------------+----+-----+-----------+-----------+------------+\n",
      "only showing top 20 rows\n",
      "\n"
     ]
    }
   ],
   "source": [
    "df.show()"
   ]
  },
  {
   "cell_type": "code",
   "execution_count": 13,
   "metadata": {},
   "outputs": [
    {
     "name": "stdout",
     "output_type": "stream",
     "text": [
      "+-------+------------------+\n",
      "|summary|      duration_min|\n",
      "+-------+------------------+\n",
      "|  count|             47368|\n",
      "|   mean| 36.81580645161297|\n",
      "| stddev|228.91379025049127|\n",
      "|    min|              0.05|\n",
      "|    max|          24055.77|\n",
      "+-------+------------------+\n",
      "\n"
     ]
    }
   ],
   "source": [
    "# check the distribution of duration_min\n",
    "\n",
    "df.describe(['duration_min']).show()"
   ]
  },
  {
   "cell_type": "markdown",
   "metadata": {},
   "source": [
    "## 5. Group, aggregate, and filter data"
   ]
  },
  {
   "cell_type": "code",
   "execution_count": 14,
   "metadata": {},
   "outputs": [
    {
     "name": "stdout",
     "output_type": "stream",
     "text": [
      "+----+-----+\n",
      "|year|count|\n",
      "+----+-----+\n",
      "|2023| 3415|\n",
      "|2022|43953|\n",
      "+----+-----+\n",
      "\n"
     ]
    }
   ],
   "source": [
    "# find out the insights of date time and rental\n",
    "\n",
    "df.groupby('year').count().show()"
   ]
  },
  {
   "cell_type": "code",
   "execution_count": 15,
   "metadata": {},
   "outputs": [
    {
     "name": "stdout",
     "output_type": "stream",
     "text": [
      "+----+-----+-----+\n",
      "|year|month|count|\n",
      "+----+-----+-----+\n",
      "|2022|   10|12038|\n",
      "|2022|    2|  779|\n",
      "|2022|    7| 2159|\n",
      "|2022|   11| 8424|\n",
      "|2022|    3| 1425|\n",
      "|2022|    1|  796|\n",
      "|2022|    5| 1859|\n",
      "|2022|    6| 2270|\n",
      "|2022|    9| 4608|\n",
      "|2022|    4| 1670|\n",
      "|2022|   12| 5845|\n",
      "|2023|    1| 3415|\n",
      "|2022|    8| 2080|\n",
      "+----+-----+-----+\n",
      "\n"
     ]
    }
   ],
   "source": [
    "# find out the insights of date time and rental\n",
    "\n",
    "df.groupby(['year','month']).count().show()"
   ]
  },
  {
   "cell_type": "code",
   "execution_count": 16,
   "metadata": {},
   "outputs": [
    {
     "name": "stdout",
     "output_type": "stream",
     "text": [
      "+----+-----+-----+\n",
      "|year|month|count|\n",
      "+----+-----+-----+\n",
      "|2022|    1|  796|\n",
      "|2022|    2|  779|\n",
      "|2022|    3| 1425|\n",
      "|2022|    4| 1670|\n",
      "|2022|    5| 1859|\n",
      "|2022|    6| 2270|\n",
      "|2022|    7| 2159|\n",
      "|2022|    8| 2080|\n",
      "|2022|    9| 4608|\n",
      "|2022|   10|12038|\n",
      "|2022|   11| 8424|\n",
      "|2022|   12| 5845|\n",
      "+----+-----+-----+\n",
      "\n"
     ]
    }
   ],
   "source": [
    "# with filter\n",
    "df.filter(df['year']== '2022').groupby(['year','month']).count().orderBy('month').show()\n"
   ]
  },
  {
   "cell_type": "code",
   "execution_count": 17,
   "metadata": {},
   "outputs": [
    {
     "name": "stderr",
     "output_type": "stream",
     "text": [
      "[Stage 23:=============================>                            (1 + 1) / 2]\r"
     ]
    },
    {
     "name": "stdout",
     "output_type": "stream",
     "text": [
      "+-----------+-----+\n",
      "|hour_of_day|count|\n",
      "+-----------+-----+\n",
      "|          0| 1015|\n",
      "|          1|  687|\n",
      "|          2|  478|\n",
      "|          3|  310|\n",
      "|          4|  190|\n",
      "|          5|  159|\n",
      "|          6|  153|\n",
      "|          7|  385|\n",
      "|          8| 1255|\n",
      "|          9| 2467|\n",
      "|         10| 2839|\n",
      "|         11| 2019|\n",
      "|         12| 2002|\n",
      "|         13| 2445|\n",
      "|         14| 2599|\n",
      "|         15| 2741|\n",
      "|         16| 2771|\n",
      "|         17| 3008|\n",
      "|         18| 3618|\n",
      "|         19| 4133|\n",
      "+-----------+-----+\n",
      "only showing top 20 rows\n",
      "\n"
     ]
    },
    {
     "name": "stderr",
     "output_type": "stream",
     "text": [
      "                                                                                \r"
     ]
    }
   ],
   "source": [
    "# which time of day that people prefer renting a bike?\n",
    "df.filter(df['year']== '2022').groupby(['hour_of_day']).count().orderBy('hour_of_day').show()"
   ]
  },
  {
   "cell_type": "markdown",
   "metadata": {},
   "source": [
    "## 6. Make business insights"
   ]
  },
  {
   "cell_type": "code",
   "execution_count": 18,
   "metadata": {},
   "outputs": [],
   "source": [
    "# it's not clear, i ll add a new column called time_of_day\n",
    "\n",
    "from pyspark.sql.functions import when\n",
    "\n",
    "df = df.withColumn(\n",
    "    \"time_of_day\",\n",
    "    when((col(\"hour_of_day\") >= 6) & (col(\"hour_of_day\") < 12), \"morning\")\n",
    "    .when((col(\"hour_of_day\") >= 12) & (col(\"hour_of_day\") < 18), \"afternoon\")\n",
    "    .when((col(\"hour_of_day\") >= 18) & (col(\"hour_of_day\") < 24), \"evening\")\n",
    "    .otherwise(\"night\")\n",
    ")\n"
   ]
  },
  {
   "cell_type": "code",
   "execution_count": 19,
   "metadata": {},
   "outputs": [
    {
     "name": "stdout",
     "output_type": "stream",
     "text": [
      "+-----------+-----+\n",
      "|time_of_day|count|\n",
      "+-----------+-----+\n",
      "|  afternoon|15566|\n",
      "|    evening|16430|\n",
      "|    morning| 9118|\n",
      "|      night| 2839|\n",
      "+-----------+-----+\n",
      "\n"
     ]
    }
   ],
   "source": [
    "df.filter(df['year']== '2022').groupby(['time_of_day']).count().orderBy('time_of_day').show()"
   ]
  },
  {
   "cell_type": "code",
   "execution_count": 28,
   "metadata": {},
   "outputs": [
    {
     "name": "stdout",
     "output_type": "stream",
     "text": [
      "+---------+-----+\n",
      "|Bike_rent|count|\n",
      "+---------+-----+\n",
      "|        1| 6402|\n",
      "|        2| 4386|\n",
      "|        3| 2836|\n",
      "|        4| 1799|\n",
      "|        5| 1056|\n",
      "|        6|  583|\n",
      "|        7|  302|\n",
      "|        8|  142|\n",
      "|        9|   68|\n",
      "|       10|   28|\n",
      "|       11|   13|\n",
      "|       12|    1|\n",
      "+---------+-----+\n",
      "\n"
     ]
    }
   ],
   "source": [
    "# which bikes are the most popular ones \n",
    "\n",
    "\n",
    "data = df.filter(df['year'] == '2022') \\\n",
    "              .groupBy('bike_id') \\\n",
    "              .count() \\\n",
    "              .orderBy('count', ascending=False) \\\n",
    "              .withColumnRenamed('count', 'Bike_rent') \\\n",
    "              .groupBy('Bike_rent').count().orderBy('Bike_rent').show()\n",
    "\n"
   ]
  },
  {
   "cell_type": "code",
   "execution_count": 29,
   "metadata": {},
   "outputs": [],
   "source": [
    "# close the session and clean up\n",
    "spark.stop()"
   ]
  }
 ],
 "metadata": {
  "kernelspec": {
   "display_name": "Python 3",
   "language": "python",
   "name": "python3"
  },
  "language_info": {
   "codemirror_mode": {
    "name": "ipython",
    "version": 3
   },
   "file_extension": ".py",
   "mimetype": "text/x-python",
   "name": "python",
   "nbconvert_exporter": "python",
   "pygments_lexer": "ipython3",
   "version": "3.10.8"
  }
 },
 "nbformat": 4,
 "nbformat_minor": 2
}
